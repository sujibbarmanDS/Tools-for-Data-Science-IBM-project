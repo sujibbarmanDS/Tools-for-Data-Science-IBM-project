{
 "cells": [
  {
   "cell_type": "markdown",
   "id": "23803f67-c36d-4ea5-9424-c761e4522116",
   "metadata": {},
   "source": [
    "<a id=\"2\"></a>\n",
    "<h1 style='background:#000000;border:0; color:black;\n",
    "    box-shadow: 10px 10px 5px 0px rgba(0,0,0,0.75);\n",
    "    transform: rotateX(10deg);\n",
    "    '><center style='color: #17E8C4;'>Q1: Final Project Notebook</center></h1>"
   ]
  },
  {
   "cell_type": "markdown",
   "id": "3d3423f6-6d51-41b0-b483-12b7bde02661",
   "metadata": {},
   "source": [
    "<a id=\"2\"></a>\n",
    "<h1 style='background:#000000;border:0; color:black;\n",
    "    box-shadow: 10px 10px 5px 0px rgba(0,0,0,0.75);\n",
    "    transform: rotateX(10deg);\n",
    "    '><center style='color: #17E8C4;'>Q2: This notebook is created as a final project for demonstrating data science skills.</center></h1>"
   ]
  },
  {
   "cell_type": "markdown",
   "id": "559e2e38-a5c0-49bc-89b6-ab7bf1822d8c",
   "metadata": {},
   "source": [
    "**Q3: Data Science Languages:**\n",
    "- Python\n",
    "- R\n",
    "- SQL\n",
    "- Julia\n",
    "- Java\n"
   ]
  },
  {
   "cell_type": "markdown",
   "id": "d6878e6b-053d-479f-94a0-26b3e41940d8",
   "metadata": {},
   "source": [
    "**Q4: Data Science Libraries:**\n",
    "- NumPy\n",
    "- Pandas\n",
    "- Matplotlib\n",
    "- Scikit-learn\n",
    "- TensorFlow\n"
   ]
  },
  {
   "cell_type": "markdown",
   "id": "2b803737-a111-465d-acb9-d2abaf1b4f41",
   "metadata": {},
   "source": [
    "| Tool              | Description             |\n",
    "|-------------------|-------------------------|\n",
    "| Jupyter Notebook  | Interactive coding tool |\n",
    "| RStudio           | IDE for R programming  |\n",
    "| Apache Spark      | Big data processing     |\n"
   ]
  },
  {
   "cell_type": "markdown",
   "id": "6d628c54-6cd2-4e39-a967-d0612dc2e2bf",
   "metadata": {},
   "source": [
    "Q6: This section demonstrates basic arithmetic operations."
   ]
  },
  {
   "cell_type": "markdown",
   "id": "91fc0320-9b68-4acc-ba79-07b4308c4af3",
   "metadata": {},
   "source": [
    "**Q7: Objectives of this Notebook:**\n",
    "- Understand data science tools and languages.\n",
    "- Learn about commonly used libraries.\n",
    "- Perform arithmetic operations using Python code."
   ]
  },
  {
   "cell_type": "markdown",
   "id": "b6422d09-4ac8-409d-8855-61ea033f624d",
   "metadata": {},
   "source": [
    "**Q8: Author:** SUJIB BARMAN"
   ]
  },
  {
   "cell_type": "code",
   "execution_count": 8,
   "id": "dabd274f-2fab-4305-90c0-be75f4c7de0d",
   "metadata": {},
   "outputs": [
    {
     "name": "stdout",
     "output_type": "stream",
     "text": [
      "The result is: 23\n"
     ]
    }
   ],
   "source": [
    "# Q9: Multiply and add numbers\n",
    "result = (5 * 4) + 3\n",
    "print(\"The result is:\", result)\n"
   ]
  },
  {
   "cell_type": "code",
   "execution_count": 9,
   "id": "86354ae5-9300-47c3-beb0-dc8bfed5f107",
   "metadata": {},
   "outputs": [
    {
     "name": "stdout",
     "output_type": "stream",
     "text": [
      "150 minutes is equal to 2.5 hours.\n"
     ]
    }
   ],
   "source": [
    "# Q10: Convert minutes to hours\n",
    "minutes = 150\n",
    "hours = minutes / 60\n",
    "print(f\"{minutes} minutes is equal to {hours} hours.\")\n"
   ]
  },
  {
   "cell_type": "code",
   "execution_count": null,
   "id": "bdc02476-03bb-47fb-abb3-22afaa7256c5",
   "metadata": {},
   "outputs": [],
   "source": []
  }
 ],
 "metadata": {
  "kernelspec": {
   "display_name": "Python 3 (ipykernel)",
   "language": "python",
   "name": "python3"
  },
  "language_info": {
   "codemirror_mode": {
    "name": "ipython",
    "version": 3
   },
   "file_extension": ".py",
   "mimetype": "text/x-python",
   "name": "python",
   "nbconvert_exporter": "python",
   "pygments_lexer": "ipython3",
   "version": "3.11.7"
  }
 },
 "nbformat": 4,
 "nbformat_minor": 5
}
